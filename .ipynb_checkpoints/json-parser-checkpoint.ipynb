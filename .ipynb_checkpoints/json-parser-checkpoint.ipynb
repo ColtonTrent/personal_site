{
 "cells": [
  {
   "cell_type": "markdown",
   "metadata": {},
   "source": [
    "# Ticks JSON Data Parsing\n",
    "This script is to pull in and compile data from Mountain Project's Data API and parse it in a format suitable for displaying as a table"
   ]
  },
  {
   "cell_type": "code",
   "execution_count": 73,
   "metadata": {},
   "outputs": [],
   "source": [
    "import requests\n",
    "import json\n",
    "import pandas as pd\n",
    "import matplotlib.pyplot as plt"
   ]
  },
  {
   "cell_type": "code",
   "execution_count": 74,
   "metadata": {},
   "outputs": [],
   "source": [
    "t_params = {\n",
    "    \"email\": \"crtrent43@gmail.com\",\n",
    "    \"key\": \"200547447-df86114ce8814dc113ab5b9ad8adfcf1\"\n",
    "}\n",
    "\n",
    "def jprint(obj):\n",
    "    # create a formatted string of the Python JSON object\n",
    "    text = json.dumps(obj, sort_keys=True, indent=4)\n",
    "    print(text)"
   ]
  },
  {
   "cell_type": "code",
   "execution_count": 75,
   "metadata": {},
   "outputs": [],
   "source": [
    "t_response = requests.get(\"https://www.mountainproject.com/data/get-ticks\", params = t_params)"
   ]
  },
  {
   "cell_type": "code",
   "execution_count": 76,
   "metadata": {},
   "outputs": [],
   "source": [
    "tick_list = t_response.json()['ticks']\n",
    "route_id_list = [i['routeId'] for i in tick_list]\n",
    "routeIds = ','.join(str(e) for e in route_id_list)\n",
    "\n",
    "r_params = {\n",
    "    \"key\": \"200547447-df86114ce8814dc113ab5b9ad8adfcf1\",\n",
    "    \"routeIds\": routeIds\n",
    "}"
   ]
  },
  {
   "cell_type": "code",
   "execution_count": 77,
   "metadata": {},
   "outputs": [],
   "source": [
    "r_response = requests.get(\"https://www.mountainproject.com/data/get-routes\", params = r_params)"
   ]
  },
  {
   "cell_type": "code",
   "execution_count": 78,
   "metadata": {},
   "outputs": [],
   "source": [
    "routes = r_response.json()['routes']"
   ]
  },
  {
   "cell_type": "code",
   "execution_count": 79,
   "metadata": {},
   "outputs": [],
   "source": [
    "for tick in tick_list:\n",
    "    for route in routes:\n",
    "        if route['id'] == tick['routeId']:\n",
    "            tick['name'] = route['name']\n",
    "            tick['location'] = route['location']\n",
    "            tick['pitches'] = str(route['pitches'])\n",
    "            tick['type'] = route['type']\n",
    "            tick['rating'] = route['rating']\n",
    "            tick['url'] = route['url']"
   ]
  },
  {
   "cell_type": "code",
   "execution_count": 80,
   "metadata": {},
   "outputs": [],
   "source": [
    "with open('C:/Users/crtre/personal_site/src/data/tick-json/tick-json.json', 'w') as fp:\n",
    "    data = json.dumps(tick_list, sort_keys=True, indent=4)\n",
    "    fp.write(data)"
   ]
  },
  {
   "cell_type": "code",
   "execution_count": null,
   "metadata": {},
   "outputs": [],
   "source": []
  }
 ],
 "metadata": {
  "kernelspec": {
   "display_name": "Python 3",
   "language": "python",
   "name": "python3"
  },
  "language_info": {
   "codemirror_mode": {
    "name": "ipython",
    "version": 3
   },
   "file_extension": ".py",
   "mimetype": "text/x-python",
   "name": "python",
   "nbconvert_exporter": "python",
   "pygments_lexer": "ipython3",
   "version": "3.8.1-final"
  }
 },
 "nbformat": 4,
 "nbformat_minor": 2
}